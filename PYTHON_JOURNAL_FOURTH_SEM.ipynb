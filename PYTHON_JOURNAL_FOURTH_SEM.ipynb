{
 "cells": [
  {
   "cell_type": "markdown",
   "metadata": {},
   "source": [
    "### PYTHON LAB FOR FOURTH SEMESTER CBCS PATTERN"
   ]
  },
  {
   "cell_type": "markdown",
   "metadata": {},
   "source": [
    "#### PROGRAM NO 1 - Write a Python function to calculate the factorial of a number (a non-negative integer). The function accepts the number as an argument."
   ]
  },
  {
   "cell_type": "code",
   "execution_count": 55,
   "metadata": {},
   "outputs": [],
   "source": [
    "def factorial(num):\n",
    "    if(num<0):\n",
    "        print(\"THE NUMBER MUST BE POSITIVE\")\n",
    "    else:\n",
    "        f = 1\n",
    "        for i in range(1,num+1):\n",
    "            f = f*i\n",
    "    print(\"Factorial of \",num,\" = \",f)"
   ]
  },
  {
   "cell_type": "code",
   "execution_count": 56,
   "metadata": {},
   "outputs": [
    {
     "name": "stdout",
     "output_type": "stream",
     "text": [
      "ENTER YOUR NUMBER5\n",
      "Factorial of  5  =  120\n"
     ]
    }
   ],
   "source": [
    "n = int(input(\"ENTER YOUR NUMBER\"))\n",
    "factorial(n)"
   ]
  },
  {
   "cell_type": "markdown",
   "metadata": {},
   "source": [
    "#### PROGRAM NO 2  - Write a Python function that takes a list and returns a new list with unique elements of the first list."
   ]
  },
  {
   "cell_type": "code",
   "execution_count": 57,
   "metadata": {},
   "outputs": [],
   "source": [
    "def find_unique(list1):\n",
    "    print(\"LIST OF ELEMENTS : \",list1)\n",
    "    unique_list = []\n",
    "    for x in list1:\n",
    "        if x not in unique_list:\n",
    "            unique_list.append(x)\n",
    "    print(\"UNIQUE ELEMENTS LIST = \",unique_list)\n",
    "    "
   ]
  },
  {
   "cell_type": "code",
   "execution_count": 58,
   "metadata": {},
   "outputs": [
    {
     "name": "stdout",
     "output_type": "stream",
     "text": [
      "LIST OF ELEMENTS :  [10, 20, 30, 40, 50, 50, 40, 30, 20, 10, 10]\n",
      "UNIQUE ELEMENTS LIST =  [10, 20, 30, 40, 50]\n"
     ]
    }
   ],
   "source": [
    "mylist = [10,20,30,40,50,50,40,30,20,10,10]\n",
    "find_unique(mylist)"
   ]
  },
  {
   "cell_type": "markdown",
   "metadata": {},
   "source": [
    "#### PROGRAM NO 3  - Write a Python program of recursion list sum"
   ]
  },
  {
   "cell_type": "code",
   "execution_count": 59,
   "metadata": {},
   "outputs": [],
   "source": [
    "def sum_of_nums(num):\n",
    "    summation = 0\n",
    "    for i in range(1,num+1):\n",
    "        summation = summation + i\n",
    "    print(\"SUM OF 1 TO \",num,\" = \",summation)\n",
    "        "
   ]
  },
  {
   "cell_type": "code",
   "execution_count": 60,
   "metadata": {},
   "outputs": [
    {
     "name": "stdout",
     "output_type": "stream",
     "text": [
      "Enter your number9\n",
      "SUM OF 1 TO  9  =  45\n"
     ]
    }
   ],
   "source": [
    "n = int(input(\"Enter your number\"))\n",
    "sum_of_nums(n)"
   ]
  },
  {
   "cell_type": "markdown",
   "metadata": {},
   "source": [
    "#### PROGRAM NO - 4 Write a Python program to get the sum of digits of a non-negative integer.\n"
   ]
  },
  {
   "cell_type": "code",
   "execution_count": 61,
   "metadata": {},
   "outputs": [
    {
     "name": "stdout",
     "output_type": "stream",
     "text": [
      "ENTER POSITIVE INTEGER 654321\n",
      "SUM OF  654321  =  21\n"
     ]
    }
   ],
   "source": [
    "num = int(input(\"ENTER POSITIVE INTEGER \"))\n",
    "temp = num\n",
    "reminder = 0\n",
    "sum_of_digits = 0\n",
    "if(num>0):\n",
    "    while(num>0):\n",
    "        reminder = int(num%10)\n",
    "        sum_of_digits = sum_of_digits + reminder\n",
    "        num = num / 10\n",
    "        \n",
    "    print(\"SUM OF \",temp,\" = \",sum_of_digits)\n",
    "else: \n",
    "    print(\"PLEASE ENTER POSITIVE INTEGER\")\n",
    "    "
   ]
  },
  {
   "cell_type": "code",
   "execution_count": 62,
   "metadata": {},
   "outputs": [],
   "source": [
    "#### count capitalize upper lower replace"
   ]
  },
  {
   "cell_type": "markdown",
   "metadata": {},
   "source": [
    "#### PROGRAM NO - 5 Write a Python program to demonstrate any 5 string operations."
   ]
  },
  {
   "cell_type": "code",
   "execution_count": 63,
   "metadata": {},
   "outputs": [
    {
     "name": "stdout",
     "output_type": "stream",
     "text": [
      "Enter your string to be processed kle bca kle bba kle bsc kle ba\n",
      "User String =  kle bca kle bba kle bsc kle ba\n",
      "Capitalized string =  Kle bca kle bba kle bsc kle ba\n",
      "Given string in upper case =  KLE BCA KLE BBA KLE BSC KLE BA\n",
      "Given string in lower case =  kle bca kle bba kle bsc kle ba\n",
      "Replace operation :  KLEs bca KLEs bba KLEs bsc KLEs ba\n",
      "Enter sub string to count kle\n",
      "kle  appears in input string for  4  times\n"
     ]
    }
   ],
   "source": [
    "mystring = input(\"Enter your string to be processed \")\n",
    "print(\"User String = \",mystring)\n",
    "print(\"Capitalized string = \",mystring.capitalize())\n",
    "print(\"Given string in upper case = \",mystring.upper())\n",
    "print(\"Given string in lower case = \",mystring.lower())\n",
    "print(\"Replace operation : \",mystring.replace(\"kle\",\"KLEs\"))\n",
    "cnt = input(\"Enter sub string to count \")\n",
    "print(cnt,\" appears in input string for \",mystring.count(cnt),\" times\")"
   ]
  },
  {
   "cell_type": "markdown",
   "metadata": {},
   "source": [
    "#### PROGRAM NO - 6 Write a Python program that uses List Comprehension to perform the following tasks.\n",
    "a. Create an output list which contains only the even numbers from the input list.                                           \n",
    "b. Create an output list which contains squares of all the numbers from 1 to 9.                                                 \n",
    "c. Create an output list which extracts all the numbers from an input string."
   ]
  },
  {
   "cell_type": "code",
   "execution_count": 64,
   "metadata": {},
   "outputs": [
    {
     "name": "stdout",
     "output_type": "stream",
     "text": [
      "Enter size of list 5\n",
      "Enter  5  elements \n",
      "78\n",
      "67\n",
      "56\n",
      "45\n",
      "34\n",
      "User input list =  [78, 67, 56, 45, 34]\n",
      "Even number list from given list =  [78, 56, 34]\n",
      "Square of numbers from 1 to 9  [1, 4, 9, 16, 25, 36, 49, 64, 81]\n",
      "Following numbers are there in a given string  [35, 25, 60]\n"
     ]
    }
   ],
   "source": [
    "### ACCEPT USER INPUT\n",
    "n =int(input(\"Enter size of list \"))\n",
    "userList = []\n",
    "print(\"Enter \",n,\" elements \")\n",
    "for i in range(1,n+1):\n",
    "    x = int(input())\n",
    "    userList.append(x)\n",
    "print(\"User input list = \",userList)\n",
    "\n",
    "### a. EVEN NUMBER LIST\n",
    "evenList = [x for x in userList if x%2==0]\n",
    "print(\"Even number list from given list = \",evenList)\n",
    "\n",
    "### b. SQUARES OF ALL NUMBERS FROM 1 TO 9\n",
    "sqList = [x*x for x in range(1,10)]\n",
    "print(\"Square of numbers from 1 to 9 \",sqList)\n",
    "\n",
    "### c. LIST WHICH EXTRACTS NUMBERS FROM GIVEN STRING.\n",
    "newString = \"There are 35 girls and 25 boys in a class of 60 students \"\n",
    "resList = [int(i) for i in newString.split() if i.isdigit()]\n",
    "print(\"Following numbers are there in a given string \",resList)\n",
    "\n"
   ]
  },
  {
   "cell_type": "markdown",
   "metadata": {},
   "source": [
    "#### PROGRAM NO - 7 Create an output tuple that converts the words to uppercase from the input tuple of words."
   ]
  },
  {
   "cell_type": "code",
   "execution_count": 77,
   "metadata": {},
   "outputs": [
    {
     "name": "stdout",
     "output_type": "stream",
     "text": [
      "Enter size of tuple4\n",
      "Enter 4  tuples\n",
      "kle\n",
      "bbc\n",
      "bca\n",
      "bcom\n",
      "Before converting to uppercase, the contents of tuple =  ('kle', 'bbc', 'bca', 'bcom')\n",
      "Tuple after conversion to uppercase =  ('KLE', 'BBC', 'BCA', 'BCOM')\n"
     ]
    }
   ],
   "source": [
    "### ACCEPT TUPLE ELEMENTS FROM USER\n",
    "n = int(input(\"Enter size of tuple\"))\n",
    "myTup = []\n",
    "print(\"Enter\",n,\" tuples\")\n",
    "for i in range(1,n+1):\n",
    "    x = input()\n",
    "    myTup.append(x)\n",
    "\n",
    "myTuple = tuple(myTup)\n",
    "print(\"Before converting to uppercase, the contents of tuple = \",myTuple)\n",
    "tempList = list(myTuple)\n",
    "upList = [x.upper() for x in tempList]\n",
    "newTuple = tuple(upList)\n",
    "print(\"Tuple after conversion to uppercase = \",newTuple)\n"
   ]
  },
  {
   "cell_type": "markdown",
   "metadata": {},
   "source": [
    "#### PROGRAM NO - 8 Write a Python program to demonstrate any 5 operations performed on dictionary"
   ]
  },
  {
   "cell_type": "code",
   "execution_count": 96,
   "metadata": {},
   "outputs": [
    {
     "name": "stdout",
     "output_type": "stream",
     "text": [
      "Student Dictionary elements :  {'rollno': 101, 'name': 'sarang', 'course': 'BCA', 'sem': 4}\n",
      "Access only keys from dictionary -  dict_keys(['rollno', 'name', 'course', 'sem'])\n",
      "Access only values from dictionary -  dict_values([101, 'sarang', 'BCA', 4])\n",
      "\n",
      "\n",
      "Create a copy of dictionary using copy()\n",
      "Print copy -  {'rollno': 101, 'name': 'sarang', 'course': 'BCA', 'sem': 4}\n",
      "Before update  {'rollno': 101, 'name': 'sarang', 'course': 'BCA', 'sem': 4}\n",
      "After Update  {'rollno': 101, 'name': 'sarang', 'course': 'BCA', 'sem': 4, 'marks': 645}\n",
      "\n",
      "\n",
      "POP and POP_ITEM methods\n",
      "Before POP  {'rollno': 101, 'name': 'sarang', 'course': 'BCA', 'sem': 4, 'marks': 645}\n",
      "Pop Item always removes last element\n",
      "After pop  ('marks', 645)\n",
      "{'rollno': 101, 'name': 'sarang', 'course': 'BCA', 'sem': 4}\n"
     ]
    }
   ],
   "source": [
    "student = {\"rollno\":101,\"name\":\"sarang\",\"course\":\"BCA\",\"sem\":4}\n",
    "print(\"Student Dictionary elements : \",student)\n",
    "\n",
    "### KEYS and VALUES FUNCTIONS\n",
    "print(\"Access only keys from dictionary - \",student.keys())\n",
    "print(\"Access only values from dictionary - \",student.values())\n",
    "\n",
    "print(\"\\n\\nCreate a copy of dictionary using copy()\")\n",
    "s2 = student.copy()\n",
    "print(\"Print copy - \",s2)\n",
    "\n",
    "### UPDATE FUNCTION\n",
    "print(\"Before update \",s2)\n",
    "s2.update({\"marks\":645})\n",
    "print(\"After Update \",s2)\n",
    "\n",
    "print(\"\\n\\nPOP and POP_ITEM methods\")\n",
    "print(\"Before POP \",s2)\n",
    "print(\"Pop Item always removes last element\")\n",
    "print(\"After pop \",s2.popitem())\n",
    "print(s2)"
   ]
  },
  {
   "cell_type": "markdown",
   "metadata": {},
   "source": [
    "#### SECTION B PROGRAM NO 11 - Write a Python class named Circle constructed by a radius and two methods which will compute the area and the perimeter of a circle."
   ]
  },
  {
   "cell_type": "code",
   "execution_count": 9,
   "metadata": {},
   "outputs": [],
   "source": [
    "class Circle():\n",
    "    rad = 0\n",
    "    def __init__(self, r):\n",
    "        self.rad = r\n",
    "    def area(self):\n",
    "        a = 3.142 * self.rad * self.rad\n",
    "        print(\"Area of circle for radius \",self.rad,\" = \",a)\n",
    "    def perimeter(self):\n",
    "        peri = 2 * 3.142 * self.rad\n",
    "        print(\"Perimeter of circle for radius \",self.rad,\" = \",peri)\n",
    "    "
   ]
  },
  {
   "cell_type": "code",
   "execution_count": 12,
   "metadata": {},
   "outputs": [
    {
     "name": "stdout",
     "output_type": "stream",
     "text": [
      "Enter radius 3.56\n",
      "Area of circle for radius  3.56  =  39.8204512\n",
      "Perimeter of circle for radius  3.56  =  22.37104\n"
     ]
    }
   ],
   "source": [
    "r1 = float(input(\"Enter radius \"))\n",
    "c1 = Circle(r1)\n",
    "c1.area()\n",
    "c1.perimeter()"
   ]
  },
  {
   "cell_type": "markdown",
   "metadata": {},
   "source": [
    "#### PROGRAM NO 12 \n",
    "#### Write a Python class named Rectangle constructed by a length and width and a method which will compute the area and perimeter of rectangle. Inherit a class Box that contains additional method volume. Override the perimeter method to compute perimeter of a Box."
   ]
  },
  {
   "cell_type": "code",
   "execution_count": 21,
   "metadata": {},
   "outputs": [],
   "source": [
    "class Box():\n",
    "    def volume(self,length,width,height):\n",
    "        box_vol = length*width*height\n",
    "        print(\"VOLUME OF BOX = \",box_vol)\n",
    "    def perimeter(self,length,width,height):\n",
    "        box_peri = 2*((width*height)+(width*length)+(length*height))\n",
    "        print(\"PERIMETER OF THE BOX = \",box_peri)\n",
    "\n",
    "class Rectangle(Box):\n",
    "    length =0\n",
    "    width = 0\n",
    "    height = 0\n",
    "    def __init__ (self,l,w,h):\n",
    "        self.length = l\n",
    "        self.width = w\n",
    "        self.height = h\n",
    "    def area(self):\n",
    "        rect_area = self.length * self.width\n",
    "        print(\"AREA OF RECTANGLE = \",rect_area)\n",
    "    def perimter(self,length,width,height):\n",
    "        rect_peri = 2 * (length*width)\n",
    "        print(\"PERIMETER OF THE RECTANGLE = \",rect_peri)"
   ]
  },
  {
   "cell_type": "code",
   "execution_count": 23,
   "metadata": {},
   "outputs": [
    {
     "name": "stdout",
     "output_type": "stream",
     "text": [
      "Enter length, width and height\n",
      "2.4\n",
      "2.4\n",
      "2.4\n",
      "\n",
      "COMPUTING RECTANGLE AREA AND PERIMETER FOR GIVEN INPUT \n",
      "AREA OF RECTANGLE =  5.76\n",
      "PERIMETER OF THE RECTANGLE =  11.52\n",
      "\n",
      "\n",
      "NOW COMPUTING BOX AREA AND PERIMETER FOR GIVEN INPUT \n",
      "VOLUME OF BOX =  13.824\n",
      "PERIMETER OF THE BOX =  34.56\n"
     ]
    }
   ],
   "source": [
    "print(\"Enter length, width and height\")\n",
    "l = float(input())\n",
    "w = float(input())\n",
    "h = float(input())\n",
    "\n",
    "rect1 = Rectangle(l,w,h)\n",
    "print(\"\\nCOMPUTING RECTANGLE AREA AND PERIMETER FOR GIVEN INPUT \")\n",
    "rect1.area()\n",
    "rect1.perimter(l,w,h)\n",
    "\n",
    "print(\"\\n\\nNOW COMPUTING BOX AREA AND PERIMETER FOR GIVEN INPUT \")\n",
    "rect1 = Box()\n",
    "rect1.volume(l,w,h)\n",
    "rect1.perimeter(l,w,h)"
   ]
  },
  {
   "cell_type": "markdown",
   "metadata": {},
   "source": [
    "#### PROGRAM NO - 13 Write a program to show use of Regular expressions with match(), search(), findall(), sub() and split()"
   ]
  },
  {
   "cell_type": "code",
   "execution_count": 31,
   "metadata": {},
   "outputs": [
    {
     "name": "stdout",
     "output_type": "stream",
     "text": [
      "\n",
      "***** FINDALL *****\n",
      "Given string =  The Quick Brown Fox Jumps Over The Lazy Dog 1234567890 \n",
      "Find all digits in given string = ['1234567890']\n",
      "\n",
      "***** SPLIT *****\n",
      "SPLIT THE STRING - SEPARATE THE STRING IN BETWEEN A TO F\n",
      "['Th', ' Qui', 'k ', 'rown ', 'ox Jumps Ov', 'r Th', ' L', 'zy ', 'og 1234567890 ']\n",
      "\n",
      "***** SUB *****\n",
      "Find sub string re and replace it with lt\n",
      "Before sub operation  Where there will there is a way\n",
      "After sub operation  Whelt thelt will thelt is a way\n"
     ]
    }
   ],
   "source": [
    "import re\n",
    "mystring = \"The Quick Brown Fox Jumps Over The Lazy Dog 1234567890 \"\n",
    "mystring2 = \"Where there will there is a way\"\n",
    "\n",
    "print(\"\\n***** FINDALL *****\")\n",
    "print(\"Given string = \",mystring)\n",
    "print(\"Find all digits in given string =\",re.findall('\\d+', mystring))\n",
    "\n",
    "print(\"\\n***** SPLIT *****\")\n",
    "print(\"SPLIT THE STRING - SEPARATE THE STRING IN BETWEEN A TO F\")\n",
    "print(re.split('[a-f]+',mystring,flags=re.IGNORECASE))\n",
    "\n",
    "print(\"\\n***** SUB *****\")\n",
    "print(\"Find sub string re and replace it with lt\")\n",
    "print(\"Before sub operation \",mystring2)\n",
    "print(\"After sub operation \",re.sub('re','lt',mystring2,flags = re.IGNORECASE))"
   ]
  },
  {
   "cell_type": "code",
   "execution_count": null,
   "metadata": {},
   "outputs": [],
   "source": []
  },
  {
   "cell_type": "code",
   "execution_count": null,
   "metadata": {},
   "outputs": [],
   "source": []
  },
  {
   "cell_type": "code",
   "execution_count": null,
   "metadata": {},
   "outputs": [],
   "source": []
  },
  {
   "cell_type": "code",
   "execution_count": null,
   "metadata": {},
   "outputs": [],
   "source": []
  },
  {
   "cell_type": "code",
   "execution_count": null,
   "metadata": {},
   "outputs": [],
   "source": []
  },
  {
   "cell_type": "code",
   "execution_count": null,
   "metadata": {},
   "outputs": [],
   "source": []
  },
  {
   "cell_type": "code",
   "execution_count": null,
   "metadata": {},
   "outputs": [],
   "source": []
  },
  {
   "cell_type": "code",
   "execution_count": null,
   "metadata": {},
   "outputs": [],
   "source": []
  }
 ],
 "metadata": {
  "kernelspec": {
   "display_name": "Python 3",
   "language": "python",
   "name": "python3"
  },
  "language_info": {
   "codemirror_mode": {
    "name": "ipython",
    "version": 3
   },
   "file_extension": ".py",
   "mimetype": "text/x-python",
   "name": "python",
   "nbconvert_exporter": "python",
   "pygments_lexer": "ipython3",
   "version": "3.8.3"
  }
 },
 "nbformat": 4,
 "nbformat_minor": 4
}
